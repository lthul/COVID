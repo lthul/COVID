{
 "cells": [
  {
   "cell_type": "code",
   "execution_count": 4,
   "metadata": {},
   "outputs": [],
   "source": [
    "import numpy as np\n",
    "import matplotlib.pyplot as plt\n",
    "import pandas as pd\n",
    "import data_loader as dl"
   ]
  },
  {
   "cell_type": "code",
   "execution_count": 41,
   "metadata": {},
   "outputs": [],
   "source": [
    "N = 10000\n",
    "S = 8900\n",
    "I = 1000\n",
    "R = 100\n",
    "NI = S+R"
   ]
  },
  {
   "cell_type": "code",
   "execution_count": 42,
   "metadata": {},
   "outputs": [],
   "source": [
    "# prob of getting a test while positive\n",
    "ptest_pos = 0.9\n",
    "# prob of not getting a test while positive\n",
    "pntest_pos = 1-ptest_pos\n",
    "# prob of getting a test while negative\n",
    "ptest_neg = 0.05\n",
    "# prob of not getting a test while negative\n",
    "pntest_neg = 1-ptest_neg"
   ]
  },
  {
   "cell_type": "code",
   "execution_count": 43,
   "metadata": {},
   "outputs": [],
   "source": [
    "p =  (ptest_pos * (I/N)) / (ptest_pos * (I/N) + ptest_neg * (1-I/N))"
   ]
  },
  {
   "cell_type": "code",
   "execution_count": 44,
   "metadata": {},
   "outputs": [
    {
     "data": {
      "text/plain": [
       "0.6666666666666667"
      ]
     },
     "execution_count": 44,
     "metadata": {},
     "output_type": "execute_result"
    }
   ],
   "source": [
    "p"
   ]
  },
  {
   "cell_type": "code",
   "execution_count": 45,
   "metadata": {},
   "outputs": [],
   "source": [
    "ntest_pos = np.int32(ptest_pos * (I))\n",
    "ntest_neg = np.int32(ptest_neg * (NI))"
   ]
  },
  {
   "cell_type": "code",
   "execution_count": 46,
   "metadata": {},
   "outputs": [],
   "source": [
    "ntest = ntest_pos + ntest_neg"
   ]
  },
  {
   "cell_type": "code",
   "execution_count": 47,
   "metadata": {},
   "outputs": [],
   "source": [
    "xtest = 100"
   ]
  },
  {
   "cell_type": "code",
   "execution_count": 48,
   "metadata": {},
   "outputs": [],
   "source": [
    "queue = np.hstack([np.ones(ntest_pos), np.zeros(ntest_neg)])\n",
    "np.random.shuffle(queue)"
   ]
  },
  {
   "cell_type": "code",
   "execution_count": 49,
   "metadata": {},
   "outputs": [],
   "source": [
    "I_test = np.sum(queue[0:xtest])\n",
    "p_est = (I_test / xtest)\n",
    "ptest = ntest/N"
   ]
  },
  {
   "cell_type": "code",
   "execution_count": 50,
   "metadata": {},
   "outputs": [
    {
     "data": {
      "text/plain": [
       "74.0"
      ]
     },
     "execution_count": 50,
     "metadata": {},
     "output_type": "execute_result"
    }
   ],
   "source": [
    "I_test"
   ]
  },
  {
   "cell_type": "code",
   "execution_count": 51,
   "metadata": {},
   "outputs": [
    {
     "name": "stdout",
     "output_type": "stream",
     "text": [
      "estimated positive rate: 0.0999\n",
      "estimated bias (prob of getting tested with virus): 0.9\n",
      "probability of having virus in general: 0.111\n",
      "estimated number of people using biased estimator: 999.0\n",
      "estimated number of people using unbiased estimator: 1110.0\n",
      "True number of infected: 1000\n"
     ]
    }
   ],
   "source": [
    "estim = np.log(p_est) + np.log(ptest)\n",
    "bias =  np.log(ptest_pos)\n",
    "param = estim - bias\n",
    "I_biased = np.exp(estim) * N\n",
    "I_unbiased = np.exp(param) * N\n",
    "print(\"estimated positive rate: \"+str(np.exp(estim)))\n",
    "print(\"estimated bias (prob of getting tested with virus): \"+str(np.exp(bias)))\n",
    "print(\"probability of having virus in general: \" + str(np.exp(estim-bias)))\n",
    "print(\"estimated number of people using biased estimator: \"+str(I_biased))\n",
    "print(\"estimated number of people using unbiased estimator: \"+str(I_unbiased))\n",
    "print(\"True number of infected: \"+str(I))"
   ]
  },
  {
   "cell_type": "code",
   "execution_count": 52,
   "metadata": {},
   "outputs": [
    {
     "data": {
      "text/plain": [
       "1000"
      ]
     },
     "execution_count": 52,
     "metadata": {},
     "output_type": "execute_result"
    }
   ],
   "source": [
    "I"
   ]
  },
  {
   "cell_type": "code",
   "execution_count": null,
   "metadata": {},
   "outputs": [],
   "source": []
  },
  {
   "cell_type": "code",
   "execution_count": null,
   "metadata": {},
   "outputs": [],
   "source": []
  },
  {
   "cell_type": "code",
   "execution_count": null,
   "metadata": {},
   "outputs": [],
   "source": []
  },
  {
   "cell_type": "code",
   "execution_count": 43,
   "metadata": {},
   "outputs": [],
   "source": [
    "I_more =  np.sum(queue)\n",
    "p_more = I_more/x"
   ]
  },
  {
   "cell_type": "code",
   "execution_count": 44,
   "metadata": {},
   "outputs": [],
   "source": [
    "p_est = I_test/x\n"
   ]
  },
  {
   "cell_type": "code",
   "execution_count": 45,
   "metadata": {},
   "outputs": [],
   "source": [
    "p_notest = 1 - ptest"
   ]
  },
  {
   "cell_type": "code",
   "execution_count": 185,
   "metadata": {},
   "outputs": [],
   "source": [
    "truep = I/N"
   ]
  },
  {
   "cell_type": "code",
   "execution_count": 189,
   "metadata": {},
   "outputs": [
    {
     "name": "stdout",
     "output_type": "stream",
     "text": [
      "-2.3025850929940455\n"
     ]
    }
   ],
   "source": [
    "param = np.log(truep)\n",
    "print(param)"
   ]
  },
  {
   "cell_type": "code",
   "execution_count": 197,
   "metadata": {},
   "outputs": [
    {
     "name": "stdout",
     "output_type": "stream",
     "text": [
      "-2.6538461470886983\n"
     ]
    }
   ],
   "source": [
    "\n",
    "print(estim)"
   ]
  },
  {
   "cell_type": "code",
   "execution_count": 198,
   "metadata": {},
   "outputs": [
    {
     "name": "stdout",
     "output_type": "stream",
     "text": [
      "-0.35667494393873245\n"
     ]
    }
   ],
   "source": [
    "\n",
    "print(bias)"
   ]
  },
  {
   "cell_type": "code",
   "execution_count": 204,
   "metadata": {},
   "outputs": [
    {
     "data": {
      "text/plain": [
       "0.10054285714285711"
      ]
     },
     "execution_count": 204,
     "metadata": {},
     "output_type": "execute_result"
    }
   ],
   "source": [
    "np.exp(estim - bias)"
   ]
  },
  {
   "cell_type": "code",
   "execution_count": 76,
   "metadata": {},
   "outputs": [],
   "source": [
    "notest_queue = np.sum(queue[x:(len(queue)-1)])\n",
    "notest_noqueue = pntest_pos*I"
   ]
  },
  {
   "cell_type": "code",
   "execution_count": 81,
   "metadata": {},
   "outputs": [],
   "source": [
    "p_notest_pos = (notest_noqueue)/N"
   ]
  },
  {
   "cell_type": "code",
   "execution_count": 86,
   "metadata": {},
   "outputs": [
    {
     "data": {
      "text/plain": [
       "-0.05129329438755058"
      ]
     },
     "execution_count": 86,
     "metadata": {},
     "output_type": "execute_result"
    }
   ],
   "source": [
    "np.log(0.95)"
   ]
  },
  {
   "cell_type": "code",
   "execution_count": 52,
   "metadata": {},
   "outputs": [],
   "source": [
    "ptest = 0.95 * 0.1 + 0.2*0.9"
   ]
  },
  {
   "cell_type": "code",
   "execution_count": 56,
   "metadata": {},
   "outputs": [],
   "source": [
    "estim = p_est * ptest "
   ]
  },
  {
   "cell_type": "code",
   "execution_count": null,
   "metadata": {},
   "outputs": [],
   "source": [
    "bias = "
   ]
  }
 ],
 "metadata": {
  "kernelspec": {
   "display_name": "Python 3",
   "language": "python",
   "name": "python3"
  },
  "language_info": {
   "codemirror_mode": {
    "name": "ipython",
    "version": 3
   },
   "file_extension": ".py",
   "mimetype": "text/x-python",
   "name": "python",
   "nbconvert_exporter": "python",
   "pygments_lexer": "ipython3",
   "version": "3.7.1"
  }
 },
 "nbformat": 4,
 "nbformat_minor": 4
}
