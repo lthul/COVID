{
 "cells": [
  {
   "cell_type": "code",
   "execution_count": 14,
   "metadata": {},
   "outputs": [],
   "source": [
    "import numpy as np\n",
    "import matplotlib.pyplot as plt\n",
    "import pandas as pd\n",
    "import data_loader as dl"
   ]
  },
  {
   "cell_type": "code",
   "execution_count": 15,
   "metadata": {},
   "outputs": [],
   "source": [
    "FLOW = dl.load_data('FLOW2.obj')\n",
    "POP = dl.load_data('fips_populations.obj')"
   ]
  },
  {
   "cell_type": "code",
   "execution_count": 16,
   "metadata": {},
   "outputs": [],
   "source": [
    "population = np.array(list(POP.values()))"
   ]
  },
  {
   "cell_type": "code",
   "execution_count": 17,
   "metadata": {},
   "outputs": [
    {
     "data": {
      "text/plain": [
       "array([ 55869, 223234,  24686, ...,  20226,   7805,   6927])"
      ]
     },
     "execution_count": 17,
     "metadata": {},
     "output_type": "execute_result"
    }
   ],
   "source": [
    "population"
   ]
  },
  {
   "cell_type": "code",
   "execution_count": 18,
   "metadata": {},
   "outputs": [
    {
     "data": {
      "text/plain": [
       "<matplotlib.colorbar.Colorbar at 0x11ab175c0>"
      ]
     },
     "execution_count": 18,
     "metadata": {},
     "output_type": "execute_result"
    },
    {
     "data": {
      "image/png": "[encoded data removed]",
      "text/plain": [
       "<Figure size 432x288 with 2 Axes>"
      ]
     },
     "metadata": {
      "needs_background": "light"
     },
     "output_type": "display_data"
    }
   ],
   "source": [
    "plt.imshow(FLOW, vmax=100)\n",
    "plt.colorbar()"
   ]
  },
  {
   "cell_type": "code",
   "execution_count": 19,
   "metadata": {},
   "outputs": [],
   "source": [
    "A = np.diag(population)"
   ]
  },
  {
   "cell_type": "code",
   "execution_count": 20,
   "metadata": {},
   "outputs": [],
   "source": [
    "for i in range(A.shape[0]):\n",
    "    A[i,:] = A[i,i]\n",
    "    "
   ]
  },
  {
   "cell_type": "code",
   "execution_count": 21,
   "metadata": {},
   "outputs": [
    {
     "data": {
      "text/plain": [
       "array([[ 55869,  55869,  55869, ...,  55869,  55869,  55869],\n",
       "       [223234, 223234, 223234, ..., 223234, 223234, 223234],\n",
       "       [ 24686,  24686,  24686, ...,  24686,  24686,  24686],\n",
       "       ...,\n",
       "       [ 20226,  20226,  20226, ...,  20226,  20226,  20226],\n",
       "       [  7805,   7805,   7805, ...,   7805,   7805,   7805],\n",
       "       [  6927,   6927,   6927, ...,   6927,   6927,   6927]])"
      ]
     },
     "execution_count": 21,
     "metadata": {},
     "output_type": "execute_result"
    }
   ],
   "source": [
    "A"
   ]
  },
  {
   "cell_type": "code",
   "execution_count": 22,
   "metadata": {},
   "outputs": [],
   "source": [
    "P = FLOW/A\n",
    "P+=.00001\n",
    "P[P>1] = 0.9"
   ]
  },
  {
   "cell_type": "code",
   "execution_count": 23,
   "metadata": {},
   "outputs": [],
   "source": [
    "population=np.int32(population)"
   ]
  },
  {
   "cell_type": "code",
   "execution_count": null,
   "metadata": {},
   "outputs": [],
   "source": []
  },
  {
   "cell_type": "code",
   "execution_count": 24,
   "metadata": {},
   "outputs": [
    {
     "data": {
      "text/plain": [
       "array([[  1, 857,  88, ...,   1,   0,   0],\n",
       "       [ 49,   5,   5, ...,   0,   0,   0],\n",
       "       [488, 215,   0, ...,   0,   1,   0],\n",
       "       ...,\n",
       "       [  0,   1,   0, ...,   0,   5,   2],\n",
       "       [  0,   6,   0, ...,  16,   0,   0],\n",
       "       [  2,   2,   0, ...,   0,   3,   0]])"
      ]
     },
     "execution_count": 24,
     "metadata": {},
     "output_type": "execute_result"
    }
   ],
   "source": [
    "np.random.binomial(population, P)"
   ]
  },
  {
   "cell_type": "code",
   "execution_count": 25,
   "metadata": {},
   "outputs": [],
   "source": [
    "P[P>1] = 0.9\n"
   ]
  },
  {
   "cell_type": "code",
   "execution_count": 46,
   "metadata": {},
   "outputs": [],
   "source": [
    "F = np.random.binomial(np.int32(0.1*population), P)\n",
    "np.fill_diagonal(F, np.zeros(F.shape[0]))"
   ]
  },
  {
   "cell_type": "code",
   "execution_count": null,
   "metadata": {},
   "outputs": [],
   "source": []
  },
  {
   "cell_type": "code",
   "execution_count": 47,
   "metadata": {},
   "outputs": [
    {
     "data": {
      "text/plain": [
       "array([2828, 1871, 1292, ..., 2251, 2028, 1312])"
      ]
     },
     "execution_count": 47,
     "metadata": {},
     "output_type": "execute_result"
    }
   ],
   "source": [
    "np.sum(F, axis=1)"
   ]
  },
  {
   "cell_type": "code",
   "execution_count": null,
   "metadata": {},
   "outputs": [],
   "source": []
  },
  {
   "cell_type": "code",
   "execution_count": 28,
   "metadata": {},
   "outputs": [],
   "source": [
    "N = 100\n",
    "p = [0.4, 0.5, 0.1]"
   ]
  },
  {
   "cell_type": "code",
   "execution_count": 10,
   "metadata": {},
   "outputs": [
    {
     "data": {
      "text/plain": [
       "array([39, 53,  8])"
      ]
     },
     "execution_count": 10,
     "metadata": {},
     "output_type": "execute_result"
    }
   ],
   "source": [
    "np.random.multinomial(N,p)"
   ]
  },
  {
   "cell_type": "code",
   "execution_count": 33,
   "metadata": {},
   "outputs": [
    {
     "data": {
      "text/plain": [
       "array([ 55869, 223234,  24686, ...,  20226,   7805,   6927], dtype=int32)"
      ]
     },
     "execution_count": 33,
     "metadata": {},
     "output_type": "execute_result"
    }
   ],
   "source": [
    "population"
   ]
  },
  {
   "cell_type": "code",
   "execution_count": 142,
   "metadata": {},
   "outputs": [],
   "source": [
    "POP = dl.load_data('fips_populations.obj')\n",
    "FLOW = dl.load_data('FLOW2.obj')\n",
    "FLOW+=1\n",
    "countyf = dl.load_data('fips_county.obj')\n",
    "idx_dict = dl.load_data('idx_dict2.obj')\n",
    "N = np.array(list(POP.values()))\n",
    "T=25\n",
    "c = 0\n",
    "ll=np.arange(0, np.int32(0.4*N[c]), 500)\n",
    "S = np.zeros([N.shape[0],T+1,len(ll)])\n",
    "S[:,0,:] =np.repeat(N.__copy__()[:,None], len(ll),axis=1)\n",
    "I = np.zeros(S.shape)\n",
    "R = np.zeros(S.shape)\n",
    "x = np.zeros(S.shape)\n",
    "y = np.zeros(S.shape)\n",
    "ii = np.arange(0,len(S))\n",
    "np.random.shuffle(ii)\n",
    "\n",
    "# CREATE RANDOM INFECTION SEEDS\n",
    "\n",
    "# I[ii[0:50], 0] = np.random.randint(0,10,50)\n",
    "n_seeds = 50\n",
    "tot = np.sum(N)\n",
    "cdf = np.cumsum(N/tot)\n",
    "U = np.random.rand(n_seeds)\n",
    "ii = [np.argmin(np.abs(U[i] - cdf)) for i in range(len(U))]\n",
    "pct = 0.0001*np.random.rand(n_seeds)\n",
    "infected = np.int32(N[ii] * pct)\n",
    "I[ii,0,:] = np.repeat(infected[:,None], len(ll),axis=1)\n",
    "\n",
    "# gamma=np.linspace(0.8, 1.0, T)\n",
    "# beta =np.linspace(1.2, 0.8, T)\n",
    "# alpha = np.linspace(0.9, 0.2, T)\n",
    "#\n",
    "gamma = 0.8 * np.ones(T)\n",
    "beta  = 1.25 * np.ones(T)\n",
    "alpha = 0.8 * np.ones(T)\n",
    "j=0\n",
    "for t in range(T):\n",
    "    for xt in ll:\n",
    "        xtt = np.zeros(S[:,t].shape[0])\n",
    "        xtt[c] = xt\n",
    "        x[:,t,j] = I[:,t,j]/N\n",
    "        y[:,t,j] = S[:,t,j]/N\n",
    "        S[:,t+1,j] = S[:,t,j] - (beta[t]*S[:,t,j]*I[:,t,j])/N - (alpha[t] * S[:,t,j] * np.dot(FLOW, beta[t] * x[:,t,j]))/(N + np.sum(FLOW, axis=0))-xtt\n",
    "        # S[:,t+1] = np.max([np.zeros(S[:,t+1].shape), S[:,t+1]])\n",
    "        I[:,t+1,j] = I[:,t,j] + (beta[t]*S[:,t,j]*I[:,t,j])/N + (alpha[t] * S[:,t,j] * np.dot(FLOW, beta[t] * x[:,t,j]))/(N + np.sum(FLOW, axis=0)) - gamma[t]*I[:,t,j]\n",
    "        # I[:, t + 1] = np.max([np.zeros(I[:, t + 1].shape), I[:, t + 1]])\n",
    "        R[:,t+1,j] = R[:,t,j] + gamma[t]*I[:,t,j]+xtt\n",
    "            # R[:, t + 1] = np.max([np.zeros(R[:, t + 1].shape), R[:, t + 1]])\n",
    "\n",
    "\n",
    "        "
   ]
  },
  {
   "cell_type": "code",
   "execution_count": 141,
   "metadata": {},
   "outputs": [
    {
     "data": {
      "text/plain": [
       "[<matplotlib.lines.Line2D at 0x124735278>]"
      ]
     },
     "execution_count": 141,
     "metadata": {},
     "output_type": "execute_result"
    },
    {
     "data": {
      "image/png": "[encoded data removed]",
      "text/plain": [
       "<Figure size 432x288 with 1 Axes>"
      ]
     },
     "metadata": {
      "needs_background": "light"
     },
     "output_type": "display_data"
    }
   ],
   "source": [
    "plt.plot(S[0,:,5])"
   ]
  },
  {
   "cell_type": "code",
   "execution_count": null,
   "metadata": {},
   "outputs": [],
   "source": []
  },
  {
   "cell_type": "code",
   "execution_count": 91,
   "metadata": {},
   "outputs": [],
   "source": [
    "t = 7\n",
    "c = 0\n",
    "ll=np.arange(0, np.int32(0.4*N[c]), 500)\n",
    "Sx = np.zeros([S[:,t].shape[0], len(ll)])\n",
    "Ix = np.zeros([S[:,t].shape[0], len(ll)])\n",
    "Rx = np.zeros([S[:,t].shape[0], len(ll)])"
   ]
  },
  {
   "cell_type": "code",
   "execution_count": 94,
   "metadata": {},
   "outputs": [
    {
     "data": {
      "text/plain": [
       "array([    0,   500,  1000,  1500,  2000,  2500,  3000,  3500,  4000,\n",
       "        4500,  5000,  5500,  6000,  6500,  7000,  7500,  8000,  8500,\n",
       "        9000,  9500, 10000, 10500, 11000, 11500, 12000, 12500, 13000,\n",
       "       13500, 14000, 14500, 15000, 15500, 16000, 16500, 17000, 17500,\n",
       "       18000, 18500, 19000, 19500, 20000, 20500, 21000, 21500, 22000])"
      ]
     },
     "execution_count": 94,
     "metadata": {},
     "output_type": "execute_result"
    }
   ],
   "source": [
    "ll"
   ]
  },
  {
   "cell_type": "code",
   "execution_count": 95,
   "metadata": {},
   "outputs": [],
   "source": [
    "j=0\n",
    "for xt in ll:\n",
    "    xtt = np.zeros(S[:,t].shape[0])\n",
    "    xtt[c] = xt\n",
    "    x = I[:,t]/N\n",
    "    y = S[:,t]/N\n",
    "    Sx[:,j] = S[:,t] - (beta[t]*S[:,t]*I[:,t])/N - (alpha[t] * S[:,t] * np.dot(FLOW, beta[t] * x))/(N + np.sum(FLOW, axis=0)) -xtt\n",
    "    # S[:,t+1] = np.max([np.zeros(S[:,t+1].shape), S[:,t+1]])\n",
    "    Ix[:,j] = I[:,t] + (beta[t]*S[:,t]*I[:,t])/N + (alpha[t] * S[:,t] * np.dot(FLOW, beta[t] * x))/(N + np.sum(FLOW, axis=0)) - gamma[t]*I[:,t]\n",
    "    # I[:, t + 1] = np.max([np.zeros(I[:, t + 1].shape), I[:, t + 1]])\n",
    "    Rx[:,j] = R[:,t] + gamma[t]*I[:,t] +xtt\n",
    "    j+=1"
   ]
  },
  {
   "cell_type": "code",
   "execution_count": 103,
   "metadata": {},
   "outputs": [
    {
     "data": {
      "text/plain": [
       "[<matplotlib.lines.Line2D at 0x129c6d128>]"
      ]
     },
     "execution_count": 103,
     "metadata": {},
     "output_type": "execute_result"
    },
    {
     "data": {
      "image/png": "[encoded data removed]",
      "text/plain": [
       "<Figure size 432x288 with 1 Axes>"
      ]
     },
     "metadata": {
      "needs_background": "light"
     },
     "output_type": "display_data"
    }
   ],
   "source": [
    "plt.plot(Ix[0,:])"
   ]
  },
  {
   "cell_type": "code",
   "execution_count": 117,
   "metadata": {},
   "outputs": [
    {
     "data": {
      "text/plain": [
       "array([[ 55869,  55869,  55869, ...,  55869,  55869,  55869],\n",
       "       [223234, 223234, 223234, ..., 223234, 223234, 223234],\n",
       "       [ 24686,  24686,  24686, ...,  24686,  24686,  24686],\n",
       "       ...,\n",
       "       [ 20226,  20226,  20226, ...,  20226,  20226,  20226],\n",
       "       [  7805,   7805,   7805, ...,   7805,   7805,   7805],\n",
       "       [  6927,   6927,   6927, ...,   6927,   6927,   6927]])"
      ]
     },
     "execution_count": 117,
     "metadata": {},
     "output_type": "execute_result"
    }
   ],
   "source": [
    "np.repeat(N.__copy__()[:,None], 45,axis=1)"
   ]
  },
  {
   "cell_type": "code",
   "execution_count": null,
   "metadata": {},
   "outputs": [],
   "source": []
  }
 ],
 "metadata": {
  "kernelspec": {
   "display_name": "Python 3",
   "language": "python",
   "name": "python3"
  },
  "language_info": {
   "codemirror_mode": {
    "name": "ipython",
    "version": 3
   },
   "file_extension": ".py",
   "mimetype": "text/x-python",
   "name": "python",
   "nbconvert_exporter": "python",
   "pygments_lexer": "ipython3",
   "version": "3.7.1"
  }
 },
 "nbformat": 4,
 "nbformat_minor": 4
}
