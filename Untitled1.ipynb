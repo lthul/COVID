{
 "cells": [
  {
   "cell_type": "code",
   "execution_count": 4,
   "metadata": {},
   "outputs": [],
   "source": [
    "import numpy as np\n",
    "import matplotlib.pyplot as plt\n",
    "import pandas as pd\n",
    "import data_loader as dl"
   ]
  },
  {
   "cell_type": "code",
   "execution_count": 707,
   "metadata": {},
   "outputs": [],
   "source": [
    "POP = dl.load_data('fips_populations.obj')"
   ]
  },
  {
   "cell_type": "code",
   "execution_count": 732,
   "metadata": {},
   "outputs": [],
   "source": [
    "FLOW = dl.load_data('FLOW2.obj')"
   ]
  },
  {
   "cell_type": "code",
   "execution_count": 733,
   "metadata": {},
   "outputs": [],
   "source": [
    "countyf = dl.load_data('fips_county.obj')\n",
    "idx_dict = dl.load_data('idx_dict.obj')"
   ]
  },
  {
   "cell_type": "code",
   "execution_count": null,
   "metadata": {},
   "outputs": [],
   "source": []
  },
  {
   "cell_type": "code",
   "execution_count": 734,
   "metadata": {},
   "outputs": [],
   "source": [
    "N = np.array(list(POP.values()))"
   ]
  },
  {
   "cell_type": "code",
   "execution_count": 735,
   "metadata": {},
   "outputs": [],
   "source": [
    "T=25\n",
    "S = np.zeros([N.shape[0],T+1])\n",
    "S[:,0] = N.__copy__()\n",
    "\n",
    "I = np.zeros(S.shape)\n",
    "R = np.zeros(S.shape)\n",
    "x = np.zeros(S.shape)\n",
    "y = np.zeros(S.shape)"
   ]
  },
  {
   "cell_type": "code",
   "execution_count": 736,
   "metadata": {},
   "outputs": [],
   "source": [
    "ii = np.arange(0,len(S))\n",
    "np.random.shuffle(ii)\n",
    "I[ii[0:50], 0] = np.random.randint(0,10,50)"
   ]
  },
  {
   "cell_type": "code",
   "execution_count": 737,
   "metadata": {},
   "outputs": [],
   "source": [
    "gamma=np.linspace(0.6, 1.2, T)\n",
    "beta =np.linspace(1.0, 0.9, T)\n",
    "alpha = np.linspace(0.9, 0.2, T)"
   ]
  },
  {
   "cell_type": "code",
   "execution_count": null,
   "metadata": {},
   "outputs": [],
   "source": []
  },
  {
   "cell_type": "code",
   "execution_count": 753,
   "metadata": {},
   "outputs": [],
   "source": [
    "for t in range(5):\n",
    "    x[:,t] = I[:,t]/N\n",
    "    y[:,t] = S[:,t]/N\n",
    "    S[:,t+1] = S[:,t] - (beta[t]*S[:,t]*I[:,t])/N - (alpha[t] * S[:,t] * np.dot(FLOW, beta[t] * x[:,t]))/(N + np.sum(FLOW, axis=0))\n",
    "    I[:,t+1] = I[:,t] + (beta[t]*S[:,t]*I[:,t])/N + (alpha[t] * S[:,t] * np.dot(FLOW, beta[t] * x[:,t]))/(N + np.sum(FLOW, axis=0)) - gamma[t]*I[:,t]\n",
    "    R[:,t+1] = R[:,t] + gamma[t]*I[:,t]"
   ]
  },
  {
   "cell_type": "code",
   "execution_count": null,
   "metadata": {},
   "outputs": [],
   "source": []
  },
  {
   "cell_type": "code",
   "execution_count": 755,
   "metadata": {},
   "outputs": [
    {
     "data": {
      "text/plain": [
       "[<matplotlib.lines.Line2D at 0x141907cf8>]"
      ]
     },
     "execution_count": 755,
     "metadata": {},
     "output_type": "execute_result"
    },
    {
     "data": {
      "image/png": "[encoded data removed]",
      "text/plain": [
       "<Figure size 432x288 with 1 Axes>"
      ]
     },
     "metadata": {
      "needs_background": "light"
     },
     "output_type": "display_data"
    }
   ],
   "source": [
    "t=4\n",
    "a = (beta[t]*S[:,t]*I[:,t])/N\n",
    "plt.plot(a)"
   ]
  },
  {
   "cell_type": "code",
   "execution_count": 756,
   "metadata": {},
   "outputs": [
    {
     "data": {
      "text/plain": [
       "[<matplotlib.lines.Line2D at 0x141cb8da0>]"
      ]
     },
     "execution_count": 756,
     "metadata": {},
     "output_type": "execute_result"
    },
    {
     "data": {
      "image/png": "[encoded data removed]",
      "text/plain": [
       "<Figure size 432x288 with 1 Axes>"
      ]
     },
     "metadata": {
      "needs_background": "light"
     },
     "output_type": "display_data"
    }
   ],
   "source": [
    "t=5\n",
    "b = (alpha[t] * S[:,t] * np.dot(FLOW, beta[t] * x[:,t]))/(N + np.sum(FLOW, axis=0))\n",
    "plt.plot(b)"
   ]
  },
  {
   "cell_type": "code",
   "execution_count": 757,
   "metadata": {},
   "outputs": [
    {
     "data": {
      "text/plain": [
       "array([[0.00000000e+00, 7.38489819e-09, 4.16177256e-08, ...,\n",
       "        0.00000000e+00, 0.00000000e+00, 0.00000000e+00],\n",
       "       [0.00000000e+00, 7.98290563e-09, 3.45620864e-08, ...,\n",
       "        0.00000000e+00, 0.00000000e+00, 0.00000000e+00],\n",
       "       [0.00000000e+00, 1.09865331e-09, 8.33732779e-08, ...,\n",
       "        0.00000000e+00, 0.00000000e+00, 0.00000000e+00],\n",
       "       ...,\n",
       "       [0.00000000e+00, 0.00000000e+00, 7.57239199e-09, ...,\n",
       "        0.00000000e+00, 0.00000000e+00, 0.00000000e+00],\n",
       "       [0.00000000e+00, 0.00000000e+00, 4.86413917e-09, ...,\n",
       "        0.00000000e+00, 0.00000000e+00, 0.00000000e+00],\n",
       "       [0.00000000e+00, 3.57954701e-07, 9.76744168e-07, ...,\n",
       "        0.00000000e+00, 0.00000000e+00, 0.00000000e+00]])"
      ]
     },
     "execution_count": 757,
     "metadata": {},
     "output_type": "execute_result"
    }
   ],
   "source": [
    "x"
   ]
  },
  {
   "cell_type": "code",
   "execution_count": 715,
   "metadata": {},
   "outputs": [
    {
     "data": {
      "text/plain": [
       "array([0.00171361, 0.05868919, 0.00048774, ..., 0.01800983, 0.00343598,\n",
       "       0.00144067])"
      ]
     },
     "execution_count": 715,
     "metadata": {},
     "output_type": "execute_result"
    }
   ],
   "source": [
    "t = 5\n",
    "(beta[t]*S[:,t]*I[:,t])/N"
   ]
  },
  {
   "cell_type": "code",
   "execution_count": null,
   "metadata": {},
   "outputs": [],
   "source": []
  },
  {
   "cell_type": "code",
   "execution_count": 239,
   "metadata": {},
   "outputs": [
    {
     "data": {
      "text/plain": [
       "'Daviess'"
      ]
     },
     "execution_count": 239,
     "metadata": {},
     "output_type": "execute_result"
    }
   ],
   "source": [
    "countyn = 1022\n",
    "fips = list(idx_dict.keys())[countyn]\n",
    "countyf[fips]"
   ]
  },
  {
   "cell_type": "code",
   "execution_count": 240,
   "metadata": {},
   "outputs": [],
   "source": [
    "Ss = np.sum(S, axis=0)\n",
    "Ii = np.sum(I, axis=0)\n",
    "Rr = np.sum(R, axis=0)"
   ]
  },
  {
   "cell_type": "code",
   "execution_count": 241,
   "metadata": {},
   "outputs": [
    {
     "data": {
      "text/plain": [
       "[<matplotlib.lines.Line2D at 0x12a77c630>]"
      ]
     },
     "execution_count": 241,
     "metadata": {},
     "output_type": "execute_result"
    },
    {
     "data": {
      "image/png": "[encoded data removed]",
      "text/plain": [
       "<Figure size 432x288 with 1 Axes>"
      ]
     },
     "metadata": {
      "needs_background": "light"
     },
     "output_type": "display_data"
    }
   ],
   "source": [
    "plt.plot(Ii)"
   ]
  },
  {
   "cell_type": "code",
   "execution_count": 243,
   "metadata": {},
   "outputs": [],
   "source": [
    "df = pd.read_csv('us-counties.csv')"
   ]
  },
  {
   "cell_type": "code",
   "execution_count": 411,
   "metadata": {},
   "outputs": [],
   "source": [
    "FIPS = list(np.array(df.fips)[~np.isnan(df.fips)])"
   ]
  },
  {
   "cell_type": "code",
   "execution_count": 412,
   "metadata": {},
   "outputs": [],
   "source": [
    "cases = list(np.array(df.cases)[~np.isnan(df.fips)])"
   ]
  },
  {
   "cell_type": "code",
   "execution_count": 280,
   "metadata": {},
   "outputs": [
    {
     "ename": "TypeError",
     "evalue": "zip argument #1 must support iteration",
     "output_type": "error",
     "traceback": [
      "\u001b[0;31m---------------------------------------------------------------------------\u001b[0m",
      "\u001b[0;31mTypeError\u001b[0m                                 Traceback (most recent call last)",
      "\u001b[0;32m<ipython-input-280-7542c9498a73>\u001b[0m in \u001b[0;36m<module>\u001b[0;34m\u001b[0m\n\u001b[1;32m      3\u001b[0m \u001b[0mmask\u001b[0m\u001b[0;34m[\u001b[0m\u001b[0mii\u001b[0m\u001b[0;34m]\u001b[0m \u001b[0;34m=\u001b[0m \u001b[0;32mTrue\u001b[0m\u001b[0;34m\u001b[0m\u001b[0;34m\u001b[0m\u001b[0m\n\u001b[1;32m      4\u001b[0m \u001b[0mfcases\u001b[0m \u001b[0;34m=\u001b[0m \u001b[0mlist\u001b[0m\u001b[0;34m(\u001b[0m\u001b[0mdf\u001b[0m\u001b[0;34m.\u001b[0m\u001b[0mcases\u001b[0m\u001b[0;34m[\u001b[0m\u001b[0mmask\u001b[0m\u001b[0;34m]\u001b[0m\u001b[0;34m)\u001b[0m\u001b[0;34m\u001b[0m\u001b[0;34m\u001b[0m\u001b[0m\n\u001b[0;32m----> 5\u001b[0;31m \u001b[0mdict\u001b[0m\u001b[0;34m(\u001b[0m\u001b[0mzip\u001b[0m\u001b[0;34m(\u001b[0m\u001b[0mFIPS\u001b[0m\u001b[0;34m[\u001b[0m\u001b[0;36m0\u001b[0m\u001b[0;34m]\u001b[0m\u001b[0;34m,\u001b[0m \u001b[0mfcases\u001b[0m\u001b[0;34m)\u001b[0m\u001b[0;34m)\u001b[0m\u001b[0;34m\u001b[0m\u001b[0;34m\u001b[0m\u001b[0m\n\u001b[0m",
      "\u001b[0;31mTypeError\u001b[0m: zip argument #1 must support iteration"
     ]
    }
   ],
   "source": [
    "ii = np.where(np.array(list(df.fips)) == FIPS[0])\n",
    "mask = np.zeros(len(cases), dtype=bool)\n",
    "mask[ii] = True\n",
    "fcases = list(df.cases[mask])\n"
   ]
  },
  {
   "cell_type": "code",
   "execution_count": 274,
   "metadata": {},
   "outputs": [
    {
     "data": {
      "text/plain": [
       "0            1\n",
       "1            1\n",
       "2            1\n",
       "4            1\n",
       "7            1\n",
       "          ... \n",
       "294675    4112\n",
       "297760    4143\n",
       "300846    4178\n",
       "303936    4273\n",
       "307025    4318\n",
       "Name: cases, Length: 169, dtype: int64"
      ]
     },
     "execution_count": 274,
     "metadata": {},
     "output_type": "execute_result"
    }
   ],
   "source": []
  },
  {
   "cell_type": "code",
   "execution_count": 414,
   "metadata": {},
   "outputs": [],
   "source": [
    "idx_dict2 = {}\n",
    "for fips, ii in idx_dict.items():\n",
    "    fips = str(np.int32(fips))\n",
    "    if len(fips) == 4:\n",
    "        fips = '0' + fips\n",
    "    idx_dict2[fips] = ii"
   ]
  },
  {
   "cell_type": "code",
   "execution_count": null,
   "metadata": {},
   "outputs": [],
   "source": []
  },
  {
   "cell_type": "code",
   "execution_count": 413,
   "metadata": {},
   "outputs": [],
   "source": [
    "case_dict = {}\n",
    "for fips in np.unique(FIPS):\n",
    "    ii = np.where(np.array(FIPS == fips))\n",
    "    mask = np.zeros(len(cases), dtype=bool)\n",
    "    mask[ii] = True\n",
    "    fcases = list(np.array(cases)[mask])\n",
    "    n = len(fcases)\n",
    "    m = 169 - n\n",
    "    d = [0]*m\n",
    "    d.extend(fcases)\n",
    "    fips = str(np.int32(fips))\n",
    "    if len(fips) == 4:\n",
    "        fips = '0' + fips\n",
    "    case_dict[fips] = d\n"
   ]
  },
  {
   "cell_type": "code",
   "execution_count": 416,
   "metadata": {},
   "outputs": [],
   "source": [
    "dl.save_data(case_dict, 'case_county_dict.obj')"
   ]
  },
  {
   "cell_type": "code",
   "execution_count": 418,
   "metadata": {},
   "outputs": [],
   "source": [
    "dl.save_data(idx_dict2, 'idx_dict2.obj')"
   ]
  },
  {
   "cell_type": "code",
   "execution_count": 310,
   "metadata": {},
   "outputs": [],
   "source": [
    "case_dict2 = []\n",
    "for ll in list(case_dict.values()):\n",
    "    a = [0]*31\n",
    "    a.extend(ll)\n",
    "    case_dict2.append(a)"
   ]
  },
  {
   "cell_type": "code",
   "execution_count": 339,
   "metadata": {},
   "outputs": [
    {
     "data": {
      "text/plain": [
       "array([  0,   6,  12,  18,  24,  30,  36,  42,  48,  54,  60,  66,  72,\n",
       "        78,  84,  90,  96, 102, 108, 114, 120, 126, 132, 138, 144, 150,\n",
       "       156, 162, 168])"
      ]
     },
     "execution_count": 339,
     "metadata": {},
     "output_type": "execute_result"
    }
   ],
   "source": [
    "j = np.arange(0, len(case_dict[1001]), 6)\n",
    "j"
   ]
  },
  {
   "cell_type": "code",
   "execution_count": 337,
   "metadata": {},
   "outputs": [
    {
     "data": {
      "text/plain": [
       "array([  0,   0,   0,   0,   0,   6,  12,  30,  53, 110, 216, 327, 479])"
      ]
     },
     "execution_count": 337,
     "metadata": {},
     "output_type": "execute_result"
    }
   ],
   "source": [
    "np.array(case_dict[1001])[j]"
   ]
  },
  {
   "cell_type": "code",
   "execution_count": 367,
   "metadata": {},
   "outputs": [],
   "source": [
    "n = np.max([len(ll) for ll in list(case_dict.values())])\n",
    "nn = 13\n",
    "I = {}\n",
    "for fips, cases in case_dict.items():\n",
    "    j = np.arange(0, n, nn)\n",
    "    I[fips] = np.array(cases)[j]\n",
    "\n",
    "I = np.array(list(I.values()))\n"
   ]
  },
  {
   "cell_type": "code",
   "execution_count": 376,
   "metadata": {},
   "outputs": [
    {
     "data": {
      "text/plain": [
       "[<matplotlib.lines.Line2D at 0x136264630>]"
      ]
     },
     "execution_count": 376,
     "metadata": {},
     "output_type": "execute_result"
    },
    {
     "data": {
      "image/png": "[encoded data removed]",
      "text/plain": [
       "<Figure size 432x288 with 1 Axes>"
      ]
     },
     "metadata": {
      "needs_background": "light"
     },
     "output_type": "display_data"
    }
   ],
   "source": [
    "plt.plot(case_dict[17013])"
   ]
  },
  {
   "cell_type": "code",
   "execution_count": 380,
   "metadata": {},
   "outputs": [
    {
     "data": {
      "text/plain": [
       "3143"
      ]
     },
     "execution_count": 380,
     "metadata": {},
     "output_type": "execute_result"
    }
   ],
   "source": [
    "len(idx_dict)"
   ]
  },
  {
   "cell_type": "code",
   "execution_count": 399,
   "metadata": {},
   "outputs": [],
   "source": [
    "n = np.max([len(ll) for ll in list(case_dict.values())])\n",
    "nn = 13\n",
    "I = np.zeros([len(idx_dict), nn])\n",
    "for fips, ii in idx_dict.items():\n",
    "    \n",
    "    if case_dict.get(fips) is None:\n",
    "        case_dict[fips] = [0]*n\n",
    "    case = case_dict[fips]\n",
    "    j = np.arange(0, n, nn)\n",
    "    I[ii,:] = np.array(case)[j]"
   ]
  },
  {
   "cell_type": "code",
   "execution_count": 400,
   "metadata": {},
   "outputs": [
    {
     "data": {
      "text/plain": [
       "array([[  0.,   0.,   0., ..., 216., 327., 479.],\n",
       "       [  0.,   0.,   0., ..., 283., 368., 477.],\n",
       "       [  0.,   0.,   0., ..., 150., 222., 305.],\n",
       "       ...,\n",
       "       [  0.,   0.,   0., ...,  12.,  62., 162.],\n",
       "       [  0.,   0.,   0., ...,  36.,  38.,  38.],\n",
       "       [  0.,   0.,   0., ...,   1.,   1.,   1.]])"
      ]
     },
     "execution_count": 400,
     "metadata": {},
     "output_type": "execute_result"
    }
   ],
   "source": [
    "I"
   ]
  },
  {
   "cell_type": "code",
   "execution_count": 401,
   "metadata": {},
   "outputs": [
    {
     "data": {
      "text/plain": [
       "'Bradley'"
      ]
     },
     "execution_count": 401,
     "metadata": {},
     "output_type": "execute_result"
    }
   ],
   "source": [
    "countyf[5011]"
   ]
  },
  {
   "cell_type": "code",
   "execution_count": 404,
   "metadata": {},
   "outputs": [],
   "source": [
    "from urllib.request import urlopen\n",
    "import json\n",
    "with urlopen('https://raw.githubusercontent.com/plotly/datasets/master/geojson-counties-fips.json') as response:\n",
    "    counties = json.load(response)"
   ]
  },
  {
   "cell_type": "code",
   "execution_count": 430,
   "metadata": {},
   "outputs": [
    {
     "data": {
      "text/plain": [
       "array([  0,  10,  20,  30,  40,  50,  60,  70,  80,  90, 100, 110, 120,\n",
       "       130, 140, 150, 160])"
      ]
     },
     "execution_count": 430,
     "metadata": {},
     "output_type": "execute_result"
    }
   ],
   "source": [
    "np.arange(0,169,10)"
   ]
  },
  {
   "cell_type": "code",
   "execution_count": 437,
   "metadata": {},
   "outputs": [
    {
     "data": {
      "text/plain": [
       "array([0., 0., 0., ..., 0., 0., 0.])"
      ]
     },
     "execution_count": 437,
     "metadata": {},
     "output_type": "execute_result"
    }
   ],
   "source": [
    "t=3\n",
    "np.max([np.log(I[:,t] + 1e-1), np.zeros(I[:,t].shape)], axis=0)"
   ]
  },
  {
   "cell_type": "code",
   "execution_count": 441,
   "metadata": {},
   "outputs": [
    {
     "data": {
      "text/plain": [
       "array([0.        , 0.30103   , 0.30103   , 1.11394335, 2.5171959 ,\n",
       "       3.7740788 , 4.26829709, 4.49246704, 4.64063048, 4.79391605,\n",
       "       4.88716139, 4.92556475, 4.96126444])"
      ]
     },
     "execution_count": 441,
     "metadata": {},
     "output_type": "execute_result"
    }
   ],
   "source": [
    "np.log10(np.max(I, axis=0))"
   ]
  },
  {
   "cell_type": "code",
   "execution_count": 443,
   "metadata": {},
   "outputs": [],
   "source": [
    "tot = np.sum(N)"
   ]
  },
  {
   "cell_type": "code",
   "execution_count": 447,
   "metadata": {},
   "outputs": [],
   "source": [
    "cdf = np.cumsum(N/tot)"
   ]
  },
  {
   "cell_type": "code",
   "execution_count": 448,
   "metadata": {},
   "outputs": [
    {
     "data": {
      "text/plain": [
       "[<matplotlib.lines.Line2D at 0x13f9044e0>]"
      ]
     },
     "execution_count": 448,
     "metadata": {},
     "output_type": "execute_result"
    },
    {
     "data": {
      "image/png": "[encoded data removed]",
      "text/plain": [
       "<Figure size 432x288 with 1 Axes>"
      ]
     },
     "metadata": {
      "needs_background": "light"
     },
     "output_type": "display_data"
    }
   ],
   "source": [
    "plt.plot(cdf)"
   ]
  },
  {
   "cell_type": "code",
   "execution_count": 457,
   "metadata": {},
   "outputs": [],
   "source": [
    "U = np.random.rand(50)"
   ]
  },
  {
   "cell_type": "code",
   "execution_count": 459,
   "metadata": {},
   "outputs": [],
   "source": [
    "ii = [np.argmin(np.abs(U[i] - cdf)) for i in range(len(U))]"
   ]
  },
  {
   "cell_type": "code",
   "execution_count": 470,
   "metadata": {},
   "outputs": [],
   "source": [
    "pct = 0.001*np.random.rand(50)"
   ]
  },
  {
   "cell_type": "code",
   "execution_count": 472,
   "metadata": {},
   "outputs": [],
   "source": [
    "infected = np.int32(N[ii] * pct)"
   ]
  },
  {
   "cell_type": "code",
   "execution_count": 474,
   "metadata": {},
   "outputs": [],
   "source": [
    "I_sim = np.zeros(I.shape)"
   ]
  },
  {
   "cell_type": "code",
   "execution_count": 475,
   "metadata": {},
   "outputs": [],
   "source": [
    "I_sim[ii,0] = infected"
   ]
  },
  {
   "cell_type": "code",
   "execution_count": 478,
   "metadata": {},
   "outputs": [
    {
     "data": {
      "text/plain": [
       "[<matplotlib.lines.Line2D at 0x13edf0fd0>]"
      ]
     },
     "execution_count": 478,
     "metadata": {},
     "output_type": "execute_result"
    },
    {
     "data": {
      "image/png": "[encoded data removed]",
      "text/plain": [
       "<Figure size 432x288 with 1 Axes>"
      ]
     },
     "metadata": {
      "needs_background": "light"
     },
     "output_type": "display_data"
    }
   ],
   "source": [
    "plt.plot(I_sim[:,0])"
   ]
  },
  {
   "cell_type": "code",
   "execution_count": 481,
   "metadata": {},
   "outputs": [],
   "source": [
    "A = np.zeros([10,10])"
   ]
  },
  {
   "cell_type": "code",
   "execution_count": 488,
   "metadata": {},
   "outputs": [],
   "source": [
    "for i in np.arange(0,A.shape[0]-1):\n",
    "    A[i, (i+1):(i+4)] = 1\n",
    "    A[(i+1):(i+4), i] = 1"
   ]
  },
  {
   "cell_type": "code",
   "execution_count": 489,
   "metadata": {},
   "outputs": [
    {
     "data": {
      "text/plain": [
       "<matplotlib.image.AxesImage at 0x13fd72198>"
      ]
     },
     "execution_count": 489,
     "metadata": {},
     "output_type": "execute_result"
    },
    {
     "data": {
      "image/png": "[encoded data removed]",
      "text/plain": [
       "<Figure size 432x288 with 1 Axes>"
      ]
     },
     "metadata": {
      "needs_background": "light"
     },
     "output_type": "display_data"
    }
   ],
   "source": [
    "plt.imshow(A)"
   ]
  },
  {
   "cell_type": "code",
   "execution_count": 610,
   "metadata": {},
   "outputs": [],
   "source": [
    "dl.load_data('FLOW.obj')\n",
    "FLOW2 = FLOW.__copy__()"
   ]
  },
  {
   "cell_type": "code",
   "execution_count": 611,
   "metadata": {},
   "outputs": [],
   "source": [
    "dist = 25\n",
    "for i in range(FLOW2.shape[0]-1):\n",
    "    temp1 = FLOW2[i, (i+1):np.min([(i+dist),FLOW2.shape[0]-1])]\n",
    "    temp2 = FLOW2[(i+1):np.min([(i+dist),FLOW2.shape[0]-1]), i]\n",
    "\n",
    "\n",
    "    FLOW2[i, (i+1):np.min([(i+dist),FLOW2.shape[0]-1])] = np.max([temp1, np.linspace(.001*N[i+1], .0005*N[i+1], len(temp1))], axis=0)\n",
    "    FLOW2[(i+1):np.min([(i+dist),FLOW2.shape[0]-1]), i] = np.max([temp2, np.linspace(.001*N[i+1], .0005*N[i+1], len(temp2))], axis=0)"
   ]
  },
  {
   "cell_type": "code",
   "execution_count": 605,
   "metadata": {},
   "outputs": [],
   "source": [
    "\n",
    "FLOW2 = np.zeros(FLOW.shape)\n",
    "dist = 25\n",
    "for i in range(FLOW.shape[0]-1):\n",
    "    temp1 = FLOW2[i, (i+1):np.min([(i+dist),FLOW2.shape[0]-1])].__copy__()\n",
    "    mterm = np.max([temp1, np.linspace(.0001*N[i+1], .00005*N[i+1], len(temp1))], axis=0)\n",
    "    FLOW2[i, (i+1):np.min([(i+dist),FLOW2.shape[0]-1])] = mterm"
   ]
  },
  {
   "cell_type": "code",
   "execution_count": 606,
   "metadata": {},
   "outputs": [
    {
     "data": {
      "text/plain": [
       "array([[ 0.       , 22.3234   , 21.8381087, ...,  0.       ,  0.       ,\n",
       "         0.       ],\n",
       "       [ 0.       ,  0.       ,  2.4686   , ...,  0.       ,  0.       ,\n",
       "         0.       ],\n",
       "       [ 0.       ,  0.       ,  0.       , ...,  0.       ,  0.       ,\n",
       "         0.       ],\n",
       "       ...,\n",
       "       [ 0.       ,  0.       ,  0.       , ...,  0.       ,  0.7805   ,\n",
       "         0.       ],\n",
       "       [ 0.       ,  0.       ,  0.       , ...,  0.       ,  0.       ,\n",
       "         0.       ],\n",
       "       [ 0.       ,  0.       ,  0.       , ...,  0.       ,  0.       ,\n",
       "         0.       ]])"
      ]
     },
     "execution_count": 606,
     "metadata": {},
     "output_type": "execute_result"
    }
   ],
   "source": [
    "FLOW2"
   ]
  },
  {
   "cell_type": "code",
   "execution_count": 612,
   "metadata": {},
   "outputs": [
    {
     "data": {
      "text/plain": [
       "<matplotlib.image.AxesImage at 0x13ed2b438>"
      ]
     },
     "execution_count": 612,
     "metadata": {},
     "output_type": "execute_result"
    },
    {
     "data": {
      "image/png": "[encoded data removed]",
      "text/plain": [
       "<Figure size 432x288 with 1 Axes>"
      ]
     },
     "metadata": {
      "needs_background": "light"
     },
     "output_type": "display_data"
    }
   ],
   "source": [
    "plt.imshow(FLOW2, vmax=50)"
   ]
  },
  {
   "cell_type": "code",
   "execution_count": 613,
   "metadata": {},
   "outputs": [],
   "source": [
    "dl.save_data(FLOW2, 'FLOW2.obj')"
   ]
  },
  {
   "cell_type": "code",
   "execution_count": 629,
   "metadata": {},
   "outputs": [],
   "source": [
    "N = 10000\n",
    "S = 8900\n",
    "I = 1000\n",
    "R = 100\n",
    "# prob of having virus and being asympomatic\n",
    "pasy_I = 0.42\n",
    "# prob of having virus and being sympomatic\n",
    "psy_I = 1 - pasy\n",
    "# prob of not having virus and being asympomatic\n",
    "pasy_NI = 0.98\n",
    "# prob of not having virus and being sympomatic\n",
    "psy_NI = 1-pasy_S\n",
    "# number of true people with virus without symptoms\n",
    "Iasy = np.int32(I * pasy_I)\n",
    "# number of true people with virus with symptoms\n",
    "Isy = I - Iasy\n",
    "# number of people without virus\n",
    "NI = S+R\n",
    "# number of people without virus without symptoms\n",
    "NIasy = np.int32(NI * pasy_NI)\n",
    "# number of people without virus with symptoms\n",
    "NIsy = NI - NIasy"
   ]
  },
  {
   "cell_type": "code",
   "execution_count": 630,
   "metadata": {},
   "outputs": [],
   "source": [
    "# tests available\n",
    "x = 100"
   ]
  },
  {
   "cell_type": "code",
   "execution_count": 623,
   "metadata": {},
   "outputs": [],
   "source": [
    "# true percentage of people with virus\n",
    "truep = I/N"
   ]
  },
  {
   "cell_type": "code",
   "execution_count": 624,
   "metadata": {},
   "outputs": [],
   "source": [
    "# prob of getting a test with symptoms\n",
    "ptest_sy = 0.95\n",
    "# prob of not getting a test with symptoms\n",
    "pntest_sy = 0.05\n",
    "# prob of getting a test without symptoms\n",
    "ptest_asy = 0.20\n",
    "# prob of not getting a test without symptoms\n",
    "pntest_asy = 0.80"
   ]
  },
  {
   "cell_type": "code",
   "execution_count": 696,
   "metadata": {},
   "outputs": [],
   "source": [
    "# number of people that want tests with symptoms\n",
    "ntest_symp_pos = np.int32(ptest_sy * (Isy))\n",
    "ntest_symp_neg = np.int32(pntest_sy * (NIsy))\n",
    "# number of people that want tests without symptoms\n",
    "ntest_asymp_pos = np.int32(ptest_asy * (Iasy))\n",
    "ntest_asymp_neg = np.int32(pntest_asy * (NIasy))"
   ]
  },
  {
   "cell_type": "code",
   "execution_count": 697,
   "metadata": {},
   "outputs": [],
   "source": [
    "ntest = ntest_symp_pos + ntest_asymp_pos + ntest_symp_neg + ntest_asymp_neg"
   ]
  },
  {
   "cell_type": "code",
   "execution_count": 698,
   "metadata": {},
   "outputs": [],
   "source": [
    "queue = np.hstack([np.ones(ntest_symp_pos), 2*np.ones(ntest_symp_neg), 3*np.ones(ntest_asymp_pos), 4*np.ones(ntest_asymp_neg)])\n",
    "np.random.shuffle(queue)"
   ]
  },
  {
   "cell_type": "code",
   "execution_count": 699,
   "metadata": {},
   "outputs": [],
   "source": [
    "A = (queue == 1)\n",
    "B = (queue == 3)\n",
    "C = A + B"
   ]
  },
  {
   "cell_type": "code",
   "execution_count": 700,
   "metadata": {},
   "outputs": [],
   "source": [
    "I_test = np.sum(C[0:x])"
   ]
  },
  {
   "cell_type": "code",
   "execution_count": 701,
   "metadata": {},
   "outputs": [],
   "source": [
    "# estimate assuming this is an unbiased estimator\n",
    "I_est = np.int32((I_test/x) * N)\n",
    "NI_est = N - I_est"
   ]
  },
  {
   "cell_type": "code",
   "execution_count": 702,
   "metadata": {},
   "outputs": [
    {
     "data": {
      "text/plain": [
       "0.08246753246753247"
      ]
     },
     "execution_count": 702,
     "metadata": {},
     "output_type": "execute_result"
    }
   ],
   "source": [
    "np.sum(C) / ntest"
   ]
  },
  {
   "cell_type": "code",
   "execution_count": 1,
   "metadata": {},
   "outputs": [
    {
     "ename": "NameError",
     "evalue": "name 'nc' is not defined",
     "output_type": "error",
     "traceback": [
      "\u001b[0;31m---------------------------------------------------------------------------\u001b[0m",
      "\u001b[0;31mNameError\u001b[0m                                 Traceback (most recent call last)",
      "\u001b[0;32m<ipython-input-1-0928e2cc26e9>\u001b[0m in \u001b[0;36m<module>\u001b[0;34m\u001b[0m\n\u001b[0;32m----> 1\u001b[0;31m \u001b[0;34m[\u001b[0m\u001b[0;34m(\u001b[0m\u001b[0;36m0\u001b[0m\u001b[0;34m,\u001b[0m \u001b[0mN\u001b[0m\u001b[0;34m[\u001b[0m\u001b[0mc\u001b[0m\u001b[0;34m]\u001b[0m\u001b[0;34m)\u001b[0m \u001b[0;32mfor\u001b[0m \u001b[0mc\u001b[0m \u001b[0;32min\u001b[0m \u001b[0mrange\u001b[0m\u001b[0;34m(\u001b[0m\u001b[0mnc\u001b[0m\u001b[0;34m)\u001b[0m\u001b[0;34m]\u001b[0m\u001b[0;34m\u001b[0m\u001b[0;34m\u001b[0m\u001b[0m\n\u001b[0m",
      "\u001b[0;31mNameError\u001b[0m: name 'nc' is not defined"
     ]
    }
   ],
   "source": [
    "possible_states = []\n",
    "for Ip1 in np.arange(0,N[0],N[0]/disc):\n",
    "    for Ip2 in np.arange(0,N[1],N[1]/disc):\n",
    "        for Sp1 in np.arange(0,N[0],N[0]/disc):\n",
    "            for Sp2 in np.arange(0,N[1],N[1]/disc):\n",
    "                if ((Ip1+Sp1) < N[0]) and ((Ip2+Sp2)<N[1]):\n",
    "                    state = {\"Ip1\":}\n",
    "                    "
   ]
  },
  {
   "cell_type": "code",
   "execution_count": 6,
   "metadata": {},
   "outputs": [],
   "source": [
    "A = np.random.rand(8)"
   ]
  },
  {
   "cell_type": "code",
   "execution_count": 7,
   "metadata": {},
   "outputs": [
    {
     "data": {
      "text/plain": [
       "array([0.23658812, 0.18733913, 0.87107614, 0.45790848])"
      ]
     },
     "execution_count": 7,
     "metadata": {},
     "output_type": "execute_result"
    }
   ],
   "source": [
    "A[:4]"
   ]
  },
  {
   "cell_type": "code",
   "execution_count": 11,
   "metadata": {},
   "outputs": [],
   "source": [
    "cc = []\n",
    "for x1 in np.arange(0,10):\n",
    "    for x2 in np.arange(0,10):\n",
    "        for x3 in np.arange(0,10):\n",
    "            cc.append([x1,x2,x3])"
   ]
  },
  {
   "cell_type": "code",
   "execution_count": 14,
   "metadata": {},
   "outputs": [],
   "source": [
    "A = [np.arange(0,10) for _ in range(3)]"
   ]
  },
  {
   "cell_type": "code",
   "execution_count": 16,
   "metadata": {},
   "outputs": [
    {
     "data": {
      "text/plain": [
       "[(0, array([0, 1, 2, 3, 4, 5, 6, 7, 8, 9])),\n",
       " (1, array([0, 1, 2, 3, 4, 5, 6, 7, 8, 9])),\n",
       " (2, array([0, 1, 2, 3, 4, 5, 6, 7, 8, 9]))]"
      ]
     },
     "execution_count": 16,
     "metadata": {},
     "output_type": "execute_result"
    }
   ],
   "source": [
    "(i,j,k)for i in np.arange(0,10)"
   ]
  },
  {
   "cell_type": "code",
   "execution_count": 17,
   "metadata": {},
   "outputs": [],
   "source": [
    "T = 10\n",
    "N = 14\n",
    "M = 20\n",
    "Stnm = [[[]*T]*N]*M"
   ]
  },
  {
   "cell_type": "code",
   "execution_count": 25,
   "metadata": {},
   "outputs": [
    {
     "data": {
      "text/plain": [
       "array([10,  9,  8,  7,  6,  5,  4,  3,  2,  1])"
      ]
     },
     "execution_count": 25,
     "metadata": {},
     "output_type": "execute_result"
    }
   ],
   "source": [
    "np.arange(10,0,-1)"
   ]
  },
  {
   "cell_type": "code",
   "execution_count": 38,
   "metadata": {},
   "outputs": [],
   "source": [
    "B = [np.eye(8) + 1e-6 for t in range(10)]"
   ]
  },
  {
   "cell_type": "code",
   "execution_count": 42,
   "metadata": {},
   "outputs": [],
   "source": [
    "def ff(theta, ss):\n",
    "    return np.dot(theta, ss)"
   ]
  },
  {
   "cell_type": "code",
   "execution_count": 54,
   "metadata": {},
   "outputs": [],
   "source": [
    "disc = 10\n",
    "nc = 3\n",
    "N = 100\n",
    "nc2 = 2*nc\n",
    "points = [np.arange(0, N, N / disc)] * nc2\n",
    "Dspace = np.vstack(np.meshgrid(*points))\n",
    "Dspace = Dspace.reshape(nc2,np.int32(np.product(Dspace.shape)/nc2))\n",
    "bools = np.sum(Dspace,axis=0) <= N\n",
    "fDspace = Dspace[:,bools]\n",
    "Sspace = [fDspace[:, i] for i in range(fDspace.shape[1])]\n",
    "theta = np.random.rand(nc2)\n",
    "pairs = []\n",
    "for ss in Sspace:\n",
    "    v = ff(theta, ss)\n",
    "    pairs.append(np.hstack([ss,v]))"
   ]
  },
  {
   "cell_type": "code",
   "execution_count": 57,
   "metadata": {},
   "outputs": [],
   "source": [
    "A = np.array(pairs)"
   ]
  },
  {
   "cell_type": "code",
   "execution_count": 59,
   "metadata": {},
   "outputs": [],
   "source": [
    "B = [A[:,0], A[:,3], A[:,6]]"
   ]
  },
  {
   "cell_type": "code",
   "execution_count": 60,
   "metadata": {},
   "outputs": [
    {
     "data": {
      "text/plain": [
       "[array([ 0.,  0.,  0., ...,  0.,  0., 10.]),\n",
       " array([ 0.,  0.,  0., ..., 10.,  0.,  0.]),\n",
       " array([ 0.        ,  2.47958556,  4.95917112, ..., 93.43277438,\n",
       "        91.81653497, 92.17593517])]"
      ]
     },
     "execution_count": 60,
     "metadata": {},
     "output_type": "execute_result"
    }
   ],
   "source": [
    "import "
   ]
  },
  {
   "cell_type": "code",
   "execution_count": 73,
   "metadata": {},
   "outputs": [
    {
     "data": {
      "text/plain": [
       "array([0.5488135 , 0.71518937, 0.60276338, 0.54488318, 0.4236548 ])"
      ]
     },
     "execution_count": 73,
     "metadata": {},
     "output_type": "execute_result"
    }
   ],
   "source": [
    "np.random.seed(0)\n",
    "np.random.rand(5)"
   ]
  },
  {
   "cell_type": "code",
   "execution_count": 74,
   "metadata": {},
   "outputs": [
    {
     "data": {
      "text/plain": [
       "array([0.64589411, 0.43758721, 0.891773  , 0.96366276, 0.38344152])"
      ]
     },
     "execution_count": 74,
     "metadata": {},
     "output_type": "execute_result"
    }
   ],
   "source": [
    "np.random.rand(5)"
   ]
  },
  {
   "cell_type": "code",
   "execution_count": 93,
   "metadata": {},
   "outputs": [],
   "source": [
    "import cvxpy as cp"
   ]
  },
  {
   "cell_type": "code",
   "execution_count": 131,
   "metadata": {},
   "outputs": [],
   "source": [
    "m = 1\n",
    "nc = 3\n",
    "np.random.seed(1)\n",
    "A = np.ones(nc)\n",
    "b = 50\n",
    "N = np.random.randint(1000, size=nc)"
   ]
  },
  {
   "cell_type": "code",
   "execution_count": 132,
   "metadata": {},
   "outputs": [],
   "source": [
    "w = 1/N"
   ]
  },
  {
   "cell_type": "code",
   "execution_count": 133,
   "metadata": {},
   "outputs": [],
   "source": [
    "x = cp.Variable(3, integer=True)"
   ]
  },
  {
   "cell_type": "code",
   "execution_count": 139,
   "metadata": {},
   "outputs": [],
   "source": [
    "objective = cp.Maximize(w@x)\n",
    "constraints = [A@x <= b, 0<=x]\n",
    "prob = cp.Problem(objective, constraints)"
   ]
  },
  {
   "cell_type": "code",
   "execution_count": 140,
   "metadata": {},
   "outputs": [
    {
     "data": {
      "text/plain": [
       "-0.0"
      ]
     },
     "execution_count": 140,
     "metadata": {},
     "output_type": "execute_result"
    }
   ],
   "source": [
    "prob.solve()"
   ]
  },
  {
   "cell_type": "code",
   "execution_count": 149,
   "metadata": {},
   "outputs": [],
   "source": [
    "import gurobipy as gp\n",
    "from gurobipy import GRB\n",
    "import numpy as np\n",
    "import scipy.sparse as sp"
   ]
  },
  {
   "cell_type": "code",
   "execution_count": 228,
   "metadata": {},
   "outputs": [],
   "source": [
    "N = np.random.randint(50, size=nc)"
   ]
  },
  {
   "cell_type": "code",
   "execution_count": 229,
   "metadata": {},
   "outputs": [
    {
     "name": "stdout",
     "output_type": "stream",
     "text": [
      "Gurobi Optimizer version 9.0.3 build v9.0.3rc0 (mac64)\n",
      "Optimize a model with 7 rows, 3 columns and 9 nonzeros\n",
      "Model fingerprint: 0x32f899d4\n",
      "Variable types: 0 continuous, 3 integer (0 binary)\n",
      "Coefficient statistics:\n",
      "  Matrix range     [1e+00, 1e+00]\n",
      "  Objective range  [3e-02, 6e-02]\n",
      "  Bounds range     [0e+00, 0e+00]\n",
      "  RHS range        [2e+01, 5e+01]\n",
      "Found heuristic solution: objective 1.8078078\n",
      "Presolve removed 7 rows and 3 columns\n",
      "Presolve time: 0.00s\n",
      "Presolve: All rows and columns removed\n",
      "\n",
      "Explored 0 nodes (0 simplex iterations) in 0.01 seconds\n",
      "Thread count was 1 (of 8 available processors)\n",
      "\n",
      "Solution count 2: 2.22132 \n",
      "\n",
      "Optimal solution found (tolerance 1.00e-04)\n",
      "Best objective 2.221321321321e+00, best bound 2.221321321321e+00, gap 0.0000%\n",
      "[16. 16. 18.]\n",
      "Obj: 2.22132\n",
      "\n"
     ]
    }
   ],
   "source": [
    "# Create a new model\n",
    "m = gp.Model(\"matrix1\")\n",
    "\n",
    "# Create variables\n",
    "x = m.addMVar(shape=3, vtype=GRB.INTEGER, name=\"x\")\n",
    "\n",
    "w = 1/N\n",
    "S = 0.95 * N\n",
    "I =  0.03 * N\n",
    "beta = 0.9\n",
    "obx = S - beta * (S*I)/N\n",
    "m.setObjective(w@x, GRB.MAXIMIZE)\n",
    "\n",
    "A = np.ones(nc)\n",
    "\n",
    "# Build rhs vector\n",
    "rhs = np.array([50])\n",
    "\n",
    "# Add constraints\n",
    "m.addConstr(A @ x <= rhs,  name=\"c\")\n",
    "m.addConstr(0 <= x)\n",
    "m.addConstr(x <= obx)\n",
    "\n",
    "# Optimize model\n",
    "m.optimize()\n",
    "\n",
    "print(x.X)\n",
    "print('Obj: %g' % m.objVal)\n",
    "print()"
   ]
  },
  {
   "cell_type": "code",
   "execution_count": 232,
   "metadata": {},
   "outputs": [
    {
     "data": {
      "text/plain": [
       "2.221321321321321"
      ]
     },
     "execution_count": 232,
     "metadata": {},
     "output_type": "execute_result"
    }
   ],
   "source": [
    "m.ObjVal"
   ]
  },
  {
   "cell_type": "code",
   "execution_count": 227,
   "metadata": {},
   "outputs": [],
   "source": [
    "S = 0.95 * N\n",
    "I =  0.03 * N\n",
    "beta = 0.9\n",
    "obx = S - beta * (S*I)/N\n",
    "obw = 1/N"
   ]
  },
  {
   "cell_type": "code",
   "execution_count": 215,
   "metadata": {},
   "outputs": [
    {
     "data": {
      "text/plain": [
       "<gurobi.MLinExpr:\n",
       "A:\n",
       "<3x3 sparse matrix of type '<class 'numpy.float64'>'\n",
       "\twith 3 stored elements in Compressed Sparse Row format>\n",
       "x:\n",
       "<(3,) matrix variable>\n",
       "b:\n",
       "array([660.91025, 596.20575, 782.92445])\n",
       ">"
      ]
     },
     "execution_count": 215,
     "metadata": {},
     "output_type": "execute_result"
    }
   ],
   "source": [
    "obx - x"
   ]
  },
  {
   "cell_type": "code",
   "execution_count": 209,
   "metadata": {},
   "outputs": [],
   "source": [
    "x = m.addMVar(shape=3, vtype=GRB.INTEGER, name=\"x\")\n",
    "\n",
    "# Set objective\n",
    "S = 0.95 * N\n",
    "I =  0.03 * N\n",
    "beta = 0.9\n",
    "obx = S - beta * (S*I)/N\n",
    "obw = 1/N\n",
    "obj = np.dot(obx, (obw-x))"
   ]
  },
  {
   "cell_type": "code",
   "execution_count": 210,
   "metadata": {},
   "outputs": [
    {
     "data": {
      "text/plain": [
       "array([<gurobi.MLinExpr:\n",
       "A:\n",
       "<3x3 sparse matrix of type '<class 'numpy.float64'>'\n",
       "\twith 3 stored elements in Compressed Sparse Row format>\n",
       "x:\n",
       "<(3,) matrix variable>\n",
       "b:\n",
       "array([0.92435   , 1.02466705, 0.78029545])\n",
       ">,\n",
       "       <gurobi.MLinExpr:\n",
       "A:\n",
       "<3x3 sparse matrix of type '<class 'numpy.float64'>'\n",
       "\twith 3 stored elements in Compressed Sparse Row format>\n",
       "x:\n",
       "<(3,) matrix variable>\n",
       "b:\n",
       "array([0.8338542 , 0.92435   , 0.70390289])\n",
       ">,\n",
       "       <gurobi.MLinExpr:\n",
       "A:\n",
       "<3x3 sparse matrix of type '<class 'numpy.float64'>'\n",
       "\twith 3 stored elements in Compressed Sparse Row format>\n",
       "x:\n",
       "<(3,) matrix variable>\n",
       "b:\n",
       "array([1.09499923, 1.21383636, 0.92435   ])\n",
       ">], dtype=object)"
      ]
     },
     "execution_count": 210,
     "metadata": {},
     "output_type": "execute_result"
    }
   ],
   "source": [
    "obj"
   ]
  },
  {
   "cell_type": "code",
   "execution_count": 194,
   "metadata": {},
   "outputs": [
    {
     "data": {
      "text/plain": [
       "<gurobi.TempConstr: <gurobi.MLinExpr:\n",
       "A:\n",
       "<3x3 sparse matrix of type '<class 'numpy.float64'>'\n",
       "\twith 3 stored elements in Compressed Sparse Row format>\n",
       "x:\n",
       "<(3,) matrix variable>\n",
       "b:\n",
       "array([660.91025, 596.20575, 782.92445])\n",
       "> >= 0>"
      ]
     },
     "execution_count": 194,
     "metadata": {},
     "output_type": "execute_result"
    }
   ],
   "source": [
    "obj >= np.zeros(3) "
   ]
  },
  {
   "cell_type": "code",
   "execution_count": 191,
   "metadata": {},
   "outputs": [
    {
     "data": {
      "text/plain": [
       "<(3,) matrix variable>"
      ]
     },
     "execution_count": 191,
     "metadata": {},
     "output_type": "execute_result"
    }
   ],
   "source": [
    "x"
   ]
  },
  {
   "cell_type": "code",
   "execution_count": 177,
   "metadata": {},
   "outputs": [],
   "source": [
    "B = S - beta* (S*I)/N - x"
   ]
  },
  {
   "cell_type": "code",
   "execution_count": 188,
   "metadata": {},
   "outputs": [
    {
     "data": {
      "text/plain": [
       "<gurobi.MLinExpr:\n",
       "A:\n",
       "<3x3 sparse matrix of type '<class 'numpy.float64'>'\n",
       "\twith 3 stored elements in Compressed Sparse Row format>\n",
       "x:\n",
       "<(3,) matrix variable>\n",
       "b:\n",
       "array([660.91025, 596.20575, 782.92445])\n",
       ">"
      ]
     },
     "execution_count": 188,
     "metadata": {},
     "output_type": "execute_result"
    }
   ],
   "source": [
    "S - beta * (S*I)/N - x"
   ]
  },
  {
   "cell_type": "code",
   "execution_count": 169,
   "metadata": {},
   "outputs": [
    {
     "data": {
      "text/plain": [
       "0.0019467976778349866"
      ]
     },
     "execution_count": 169,
     "metadata": {},
     "output_type": "execute_result"
    }
   ],
   "source": [
    "np.dot(x/N, A)"
   ]
  },
  {
   "cell_type": "code",
   "execution_count": 238,
   "metadata": {},
   "outputs": [
    {
     "data": {
      "text/plain": [
       "0"
      ]
     },
     "execution_count": 238,
     "metadata": {},
     "output_type": "execute_result"
    }
   ],
   "source": [
    "np.random.poisson(0)"
   ]
  },
  {
   "cell_type": "code",
   "execution_count": null,
   "metadata": {},
   "outputs": [],
   "source": []
  }
 ],
 "metadata": {
  "kernelspec": {
   "display_name": "Python 3",
   "language": "python",
   "name": "python3"
  },
  "language_info": {
   "codemirror_mode": {
    "name": "ipython",
    "version": 3
   },
   "file_extension": ".py",
   "mimetype": "text/x-python",
   "name": "python",
   "nbconvert_exporter": "python",
   "pygments_lexer": "ipython3",
   "version": "3.7.1"
  }
 },
 "nbformat": 4,
 "nbformat_minor": 4
}
