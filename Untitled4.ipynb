{
 "cells": [
  {
   "cell_type": "code",
   "execution_count": 6,
   "metadata": {},
   "outputs": [],
   "source": [
    "import numpy as np\n",
    "import matplotlib.pyplot as plt\n",
    "import pandas as pd\n",
    "import data_loader as dl"
   ]
  },
  {
   "cell_type": "code",
   "execution_count": 214,
   "metadata": {},
   "outputs": [],
   "source": [
    "FLOW = dl.load_data('FLOW2.obj')\n",
    "POP = dl.load_data('fips_populations.obj')\n",
    "code = dl.load_data('fips_county.obj')\n",
    "idxd = dl.load_data('idx_dict2.obj')"
   ]
  },
  {
   "cell_type": "code",
   "execution_count": 215,
   "metadata": {},
   "outputs": [],
   "source": [
    "N = np.array(list(POP.values()))\n",
    "nc = len(N)"
   ]
  },
  {
   "cell_type": "code",
   "execution_count": 216,
   "metadata": {},
   "outputs": [],
   "source": [
    "FLOW+=1\n",
    "np.fill_diagonal(FLOW,0)"
   ]
  },
  {
   "cell_type": "code",
   "execution_count": 217,
   "metadata": {},
   "outputs": [],
   "source": [
    "Nvals = N.repeat(nc).reshape(nc,nc)\n",
    "FLOW_mat = np.divide(FLOW,Nvals)\n"
   ]
  },
  {
   "cell_type": "code",
   "execution_count": 218,
   "metadata": {},
   "outputs": [
    {
     "data": {
      "text/plain": [
       "array([[ 55869,  55869,  55869, ...,  55869,  55869,  55869],\n",
       "       [223234, 223234, 223234, ..., 223234, 223234, 223234],\n",
       "       [ 24686,  24686,  24686, ...,  24686,  24686,  24686],\n",
       "       ...,\n",
       "       [ 20226,  20226,  20226, ...,  20226,  20226,  20226],\n",
       "       [  7805,   7805,   7805, ...,   7805,   7805,   7805],\n",
       "       [  6927,   6927,   6927, ...,   6927,   6927,   6927]])"
      ]
     },
     "execution_count": 218,
     "metadata": {},
     "output_type": "execute_result"
    }
   ],
   "source": [
    "Nvals"
   ]
  },
  {
   "cell_type": "code",
   "execution_count": null,
   "metadata": {},
   "outputs": [],
   "source": []
  },
  {
   "cell_type": "code",
   "execution_count": 223,
   "metadata": {},
   "outputs": [],
   "source": [
    "FLOW_mat = np.min([FLOW_mat, 0.1*np.ones(FLOW_mat.shape)],axis=0)"
   ]
  },
  {
   "cell_type": "code",
   "execution_count": 226,
   "metadata": {},
   "outputs": [
    {
     "data": {
      "text/plain": [
       "(218545,)"
      ]
     },
     "execution_count": 226,
     "metadata": {},
     "output_type": "execute_result"
    }
   ],
   "source": [
    "np.where(FLOW_mat==.001)[0].shape"
   ]
  },
  {
   "cell_type": "code",
   "execution_count": 229,
   "metadata": {},
   "outputs": [
    {
     "data": {
      "text/plain": [
       "<matplotlib.image.AxesImage at 0x157c53668>"
      ]
     },
     "execution_count": 229,
     "metadata": {},
     "output_type": "execute_result"
    },
    {
     "data": {
      "image/png": "[encoded data removed]",
      "text/plain": [
       "<Figure size 432x288 with 1 Axes>"
      ]
     },
     "metadata": {
      "needs_background": "light"
     },
     "output_type": "display_data"
    }
   ],
   "source": [
    "plt.imshow(FLOW_mat, vmin=0, vmax=0.1)"
   ]
  },
  {
   "cell_type": "code",
   "execution_count": 233,
   "metadata": {},
   "outputs": [],
   "source": [
    "T = 4"
   ]
  },
  {
   "cell_type": "code",
   "execution_count": 234,
   "metadata": {},
   "outputs": [
    {
     "name": "stdout",
     "output_type": "stream",
     "text": [
      "0.01\n",
      "0.01514041514041514\n",
      "0.010546875\n"
     ]
    }
   ],
   "source": [
    "beta = 0.9\n",
    "gamma = 0.2\n",
    "\n",
    "S = np.zeros([nc, T])\n",
    "I = np.zeros([nc, T])\n",
    "R = np.zeros([nc, T])\n",
    "S[:,0] = np.int32(N*0.95)\n",
    "I[:,0] = np.int32(N*0.04)\n",
    "R[:,0] = N - S[:,0] - I[:,0]\n",
    "\n",
    "\n",
    "for t in range(T-1):\n",
    "    Nvals = N.repeat(nc).reshape(nc,nc).T\n",
    "    FLOWn = np.random.binomial(Nvals, FLOW_mat)\n",
    "    leaving = np.sum(FLOWn,axis=0)\n",
    "    entering = np.sum(FLOWn, axis=1)\n",
    "    net = entering - leaving\n",
    "    bools = np.abs(net) > 0.1 * N\n",
    "    signs = np.sign(net)\n",
    "    leaving[bools] = 0.1 * N[bools]\n",
    "    entering[bools] = 0.1 * N[bools]\n",
    "    \n",
    "    \n",
    "    pS = S[:,t]/N\n",
    "    pI = I[:,t]/N\n",
    "    pR = R[:,t]/N\n",
    "    print(np.min(pR))\n",
    "    SIRleaving = np.array([np.random.multinomial(leaving[c], [pS[c],pI[c],pR[c]]) for c in range(nc)])\n",
    "    SIRentering = np.array([np.random.multinomial(entering[c], [pS[c],pI[c],pR[c]]) for c in range(nc)])\n",
    "    \n",
    "    SIRnet_flow = SIRentering - SIRleaving\n",
    "    N += entering - leaving\n",
    "    \n",
    "    Snew = np.int32(S[:,t] + SIRnet_flow[:,0])\n",
    "    Inew = np.int32(I[:,t] + SIRnet_flow[:,1])\n",
    "    Rnew = np.int32(R[:,t] + SIRnet_flow[:,2])\n",
    "    \n",
    "    S[:,t+1] = np.max([np.zeros(nc),Snew - (beta*Inew*Snew)/N], axis=0)\n",
    "    I[:,t+1] = np.max([np.zeros(nc),(1-gamma)*Inew + (beta*Inew*Snew)]/N,axis=0)\n",
    "    R[:,t+1] = np.max([np.zeros(nc),Rnew + gamma*Inew],axis=0)"
   ]
  },
  {
   "cell_type": "code",
   "execution_count": 241,
   "metadata": {},
   "outputs": [
    {
     "data": {
      "text/plain": [
       "943339758793.6268"
      ]
     },
     "execution_count": 241,
     "metadata": {},
     "output_type": "execute_result"
    }
   ],
   "source": [
    "np.dot(S[:,2],np.dot(FLOWn, I[:,2]/N))"
   ]
  },
  {
   "cell_type": "code",
   "execution_count": 239,
   "metadata": {},
   "outputs": [
    {
     "data": {
      "text/plain": [
       "array([ 682.90433615,  249.66226289, 1527.36677643, ..., 1853.4174863 ,\n",
       "       4333.90029868, 4802.54113551])"
      ]
     },
     "execution_count": 239,
     "metadata": {},
     "output_type": "execute_result"
    }
   ],
   "source": [
    "I[:,2]"
   ]
  },
  {
   "cell_type": "code",
   "execution_count": 18,
   "metadata": {},
   "outputs": [],
   "source": [
    "NVac = 50\n",
    "nc = 20"
   ]
  },
  {
   "cell_type": "code",
   "execution_count": 19,
   "metadata": {},
   "outputs": [],
   "source": [
    "xi = np.floor(NVac/nc)\n",
    "rem = NVac%nc\n",
    "x = xi*np.ones(nc)\n",
    "x[:rem]+=1"
   ]
  },
  {
   "cell_type": "code",
   "execution_count": 23,
   "metadata": {},
   "outputs": [],
   "source": [
    "S = np.zeros([2,3])"
   ]
  },
  {
   "cell_type": "code",
   "execution_count": 25,
   "metadata": {},
   "outputs": [
    {
     "data": {
      "text/plain": [
       "array([[0.30055984, 0.30134309, 0.30116699],\n",
       "       [0.30156849, 0.29934579, 0.30029978]])"
      ]
     },
     "execution_count": 25,
     "metadata": {},
     "output_type": "execute_result"
    }
   ],
   "source": [
    "np.random.normal(0.3,.001,size=S.shape)"
   ]
  },
  {
   "cell_type": "code",
   "execution_count": null,
   "metadata": {},
   "outputs": [],
   "source": []
  }
 ],
 "metadata": {
  "kernelspec": {
   "display_name": "Python 3",
   "language": "python",
   "name": "python3"
  },
  "language_info": {
   "codemirror_mode": {
    "name": "ipython",
    "version": 3
   },
   "file_extension": ".py",
   "mimetype": "text/x-python",
   "name": "python",
   "nbconvert_exporter": "python",
   "pygments_lexer": "ipython3",
   "version": "3.7.1"
  }
 },
 "nbformat": 4,
 "nbformat_minor": 4
}
